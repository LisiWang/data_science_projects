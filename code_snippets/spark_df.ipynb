{
 "cells": [
  {
   "cell_type": "markdown",
   "id": "80b95059",
   "metadata": {},
   "source": [
    "The following code aims to **characterize long-term vs. short-term users on Stack Exchange**. Long-term users are defined as having posted content between 100 and 150 days after account creation. The final output shows the *average scores, views, number of answers, and number of favorites* for users' very first question. Two folders (only relevant variables listed) were read line-by-line and then converted to df:\n",
    "\n",
    "- allUsers\n",
    "    - Id\n",
    "    - CreationDate (account creation date)\n",
    "- allPosts\n",
    "    - OwnerUserID\n",
    "    - CreationDate (post creation date)\n",
    "    - PostTypeID (1 = question, 2 = answer)\n",
    "    - Score\n",
    "    - ViewCount\n",
    "    - AnswerCount\n",
    "    - FavoriteCount"
   ]
  },
  {
   "cell_type": "code",
   "execution_count": 1,
   "id": "9473b21b",
   "metadata": {},
   "outputs": [
    {
     "name": "stderr",
     "output_type": "stream",
     "text": [
      "Setting default log level to \"WARN\".\n",
      "To adjust logging level use sc.setLogLevel(newLevel). For SparkR, use setLogLevel(newLevel).\n",
      "24/04/04 17:17:55 WARN NativeCodeLoader: Unable to load native-hadoop library for your platform... using builtin-java classes where applicable\n",
      "24/04/04 17:17:56 WARN Utils: Service 'SparkUI' could not bind on port 4040. Attempting port 4041.\n"
     ]
    }
   ],
   "source": [
    "from pyspark.sql import SparkSession\n",
    "\n",
    "session = SparkSession.builder.appName('sparkproj').master('local[*]').getOrCreate()\n",
    "sc = session.sparkContext"
   ]
  },
  {
   "cell_type": "code",
   "execution_count": 2,
   "id": "a7e03f08",
   "metadata": {},
   "outputs": [],
   "source": [
    "import xml.etree.ElementTree as ET\n",
    "\n",
    "def parse_line(line):\n",
    "    \"\"\"\n",
    "    this function uses xml to parse lines with '<row'\n",
    "    \"\"\"\n",
    "    if '<row' in line:\n",
    "        try:\n",
    "            p = ET.fromstring(line)\n",
    "            return p.attrib\n",
    "        except ET.ParseError:\n",
    "            return None\n",
    "    else:\n",
    "        return None"
   ]
  },
  {
   "cell_type": "code",
   "execution_count": 3,
   "id": "16d9e839",
   "metadata": {},
   "outputs": [],
   "source": [
    "from pyspark.sql.types import IntegerType\n",
    "from pyspark.sql import functions as F"
   ]
  },
  {
   "cell_type": "code",
   "execution_count": 4,
   "id": "480e6a49",
   "metadata": {},
   "outputs": [],
   "source": [
    "user_lines = sc.textFile('spark-stats-data/allUsers/*.xml.gz')\n",
    "users = user_lines.map(parse_line).filter(lambda x: x is not None)"
   ]
  },
  {
   "cell_type": "code",
   "execution_count": 5,
   "id": "caea69ad",
   "metadata": {},
   "outputs": [],
   "source": [
    "# users_df\n",
    "# select relevant cols\n",
    "# convert types\n",
    "# create ll and ul\n",
    "# https://stackoverflow.com/questions/47897238/add-extra-hours-to-timestamp-columns-in-pyspark-data-frame\n",
    "users_df = (users.toDF()\n",
    "                 .select('Id', 'CreationDate')\n",
    "                 .withColumn('Id', F.col('Id').cast(IntegerType()))\n",
    "                 .withColumn('CreationDate', F.to_timestamp('CreationDate', \"yyyy-MM-dd'T'HH:mm:ss.SSS\"))\n",
    "                 .withColumn('ll', F.col('CreationDate')+F.expr('INTERVAL 100 DAYS'))\n",
    "                 .withColumn('ul', F.col('CreationDate')+F.expr('INTERVAL 150 DAYS'))\n",
    "                 .drop('CreationDate')\n",
    "           )"
   ]
  },
  {
   "cell_type": "code",
   "execution_count": 6,
   "id": "10faf9cd",
   "metadata": {},
   "outputs": [],
   "source": [
    "post_lines = sc.textFile('spark-stats-data/allPosts/*.xml.gz')\n",
    "posts = post_lines.map(parse_line).filter(lambda x: x is not None)"
   ]
  },
  {
   "cell_type": "code",
   "execution_count": 7,
   "id": "ddf18cf4",
   "metadata": {},
   "outputs": [],
   "source": [
    "# posts_df\n",
    "# select relevant cols\n",
    "# convert types\n",
    "posts_df = (posts.toDF()\n",
    "                 .select('OwnerUserID', 'CreationDate')\n",
    "                 .withColumn('OwnerUserID', F.col('OwnerUserID').cast(IntegerType()))\n",
    "                 .withColumn('CreationDate', F.to_timestamp('CreationDate', \"yyyy-MM-dd'T'HH:mm:ss.SSS\"))\n",
    "            )"
   ]
  },
  {
   "cell_type": "code",
   "execution_count": 8,
   "id": "805ec5f1",
   "metadata": {},
   "outputs": [],
   "source": [
    "# helper function for in_range col\n",
    "in_range = (F.when((F.col('CreationDate')>F.col('ll')) & (F.col('CreationDate')<F.col('ul')),\n",
    "                   1).otherwise(0))"
   ]
  },
  {
   "cell_type": "code",
   "execution_count": 9,
   "id": "1b8b25b0",
   "metadata": {},
   "outputs": [],
   "source": [
    "# helper function for status col\n",
    "status = (F.when(F.col('sum_in_range')>0, \n",
    "                 'long').otherwise('short'))"
   ]
  },
  {
   "cell_type": "code",
   "execution_count": 10,
   "id": "93c708dd",
   "metadata": {},
   "outputs": [],
   "source": [
    "# status_df\n",
    "# join posts_df & users_df\n",
    "# create in_range col\n",
    "# group by Id and sum in_range\n",
    "# create status col\n",
    "status_df = (posts_df.join(users_df, on=(posts_df['OwnerUserId']==users_df['ID']))\n",
    "                     .withColumn('in_range', in_range)\n",
    "                     .groupby('Id')\n",
    "                     .agg(F.sum(F.col('in_range')).alias('sum_in_range'))\n",
    "                     .withColumn('status', status)\n",
    "                     .drop('sum_in_range')\n",
    "            )"
   ]
  },
  {
   "cell_type": "code",
   "execution_count": 11,
   "id": "662a882e",
   "metadata": {},
   "outputs": [
    {
     "name": "stdout",
     "output_type": "stream",
     "text": [
      "+------+---------+\n",
      "|status|count(Id)|\n",
      "+------+---------+\n",
      "|  long|     2027|\n",
      "| short|    24820|\n",
      "+------+---------+\n",
      "\n"
     ]
    }
   ],
   "source": [
    "# count of each status\n",
    "status_df.groupby('status').agg(F.count(F.col('Id'))).show()\n",
    "\n",
    "# note that this is a smaller dataset for proof of concept"
   ]
  },
  {
   "cell_type": "code",
   "execution_count": 12,
   "id": "df6445c4",
   "metadata": {},
   "outputs": [],
   "source": [
    "# post_mask_df\n",
    "# select relevant cols\n",
    "# convert types\n",
    "# filter questions (from answers)\n",
    "# group by OwnerUserID and select min CreationDate\n",
    "post_mask_df = (posts.toDF()\n",
    "                     .select('PostTypeID',F.col('OwnerUserID').alias('maskID'),'CreationDate')\n",
    "                     .withColumn('PostTypeID', F.col('PostTypeID').cast(IntegerType()))\n",
    "                     .withColumn('maskID', F.col('maskID').cast(IntegerType()))\n",
    "                     .withColumn('CreationDate', F.to_timestamp('CreationDate', \"yyyy-MM-dd'T'HH:mm:ss.SSS\"))\n",
    "                     .filter(F.col('PostTypeID')==1)\n",
    "                     .groupby('maskID')\n",
    "                     .agg(F.min('CreationDate').alias('minCreationDate'))\n",
    "                )"
   ]
  },
  {
   "cell_type": "code",
   "execution_count": 13,
   "id": "c676760a",
   "metadata": {},
   "outputs": [],
   "source": [
    "# post_deets_df\n",
    "# select relevant cols\n",
    "# convert types\n",
    "post_deets_df = (posts.toDF()\n",
    "                      .select('OwnerUserID','CreationDate','Score','ViewCount','AnswerCount','FavoriteCount')\n",
    "                      .withColumn('OwnerUserID', F.col('OwnerUserID').cast(IntegerType()))\n",
    "                      .withColumn('CreationDate', F.to_timestamp('CreationDate', \"yyyy-MM-dd'T'HH:mm:ss.SSS\"))\n",
    "                      .withColumn('Score', F.col('Score').cast(IntegerType()))\n",
    "                      .withColumn('ViewCount', F.col('ViewCount').cast(IntegerType()))\n",
    "                      .withColumn('AnswerCount', F.col('AnswerCount').cast(IntegerType()))\n",
    "                      .withColumn('FavoriteCount', F.col('FavoriteCount').cast(IntegerType()))\n",
    "                )"
   ]
  },
  {
   "cell_type": "code",
   "execution_count": 14,
   "id": "c14e075c",
   "metadata": {},
   "outputs": [],
   "source": [
    "# join post_mask_df\n",
    "post_deets_df = post_deets_df.join(post_mask_df, \n",
    "                                   on=((post_deets_df['OwnerUserId']==post_mask_df['maskId']) & (post_deets_df['CreationDate']==post_mask_df['minCreationDate'])))"
   ]
  },
  {
   "cell_type": "code",
   "execution_count": 15,
   "id": "255de9cb",
   "metadata": {},
   "outputs": [],
   "source": [
    "# join status_df\n",
    "post_deets_df = post_deets_df.join(status_df, \n",
    "                                   on=(post_deets_df['OwnerUserId']==status_df['Id']))"
   ]
  },
  {
   "cell_type": "code",
   "execution_count": 16,
   "id": "c62463b5",
   "metadata": {},
   "outputs": [],
   "source": [
    "# outcome_df\n",
    "# replace na with 0\n",
    "# group by status and average outcomes\n",
    "outcome_df = (post_deets_df.na.fill(0)\n",
    "                           .groupby('status')\n",
    "                           .agg(F.avg('Score'),\n",
    "                                F.avg('ViewCount'),\n",
    "                                F.avg('AnswerCount'),\n",
    "                                F.avg('FavoriteCount'))\n",
    "             )"
   ]
  },
  {
   "cell_type": "code",
   "execution_count": 17,
   "id": "85836a43",
   "metadata": {},
   "outputs": [
    {
     "name": "stdout",
     "output_type": "stream",
     "text": [
      "+------+-----------------+-----------------+------------------+------------------+\n",
      "|status|       avg(Score)|   avg(ViewCount)|  avg(AnswerCount)|avg(FavoriteCount)|\n",
      "+------+-----------------+-----------------+------------------+------------------+\n",
      "|  long| 3.54370533260033|925.8889499725124|1.2974161627267728|1.3001649257833974|\n",
      "| short|2.100892857142857|553.4432330827068|0.9705827067669173|0.5757988721804511|\n",
      "+------+-----------------+-----------------+------------------+------------------+\n",
      "\n",
      "CPU times: user 9.99 ms, sys: 1.55 ms, total: 11.5 ms\n",
      "Wall time: 13.8 s\n"
     ]
    }
   ],
   "source": [
    "%%time\n",
    "\n",
    "outcome_df.show()"
   ]
  }
 ],
 "metadata": {
  "kernelspec": {
   "display_name": "Python3",
   "language": "python",
   "name": "python3"
  },
  "language_info": {
   "codemirror_mode": {
    "name": "ipython",
    "version": 3
   },
   "file_extension": ".py",
   "mimetype": "text/x-python",
   "name": "python",
   "nbconvert_exporter": "python",
   "pygments_lexer": "ipython3",
   "version": "3.11.6"
  }
 },
 "nbformat": 4,
 "nbformat_minor": 5
}
