{
 "cells": [
  {
   "cell_type": "markdown",
   "id": "ddd68c01",
   "metadata": {},
   "source": [
    "The following code aims to **predict image labels given training images with the same label categories**. The images were first processed through the inception deep learning model, then trained on a fully connected neural network (with dropout and early stopping). The final output shows the of the test images' *predicted labels*.\n",
    "\n",
    "*Note*. Some code is commented out to save memory."
   ]
  },
  {
   "cell_type": "code",
   "execution_count": 1,
   "id": "6f02ef91",
   "metadata": {},
   "outputs": [],
   "source": [
    "# --- pre-process X ---"
   ]
  },
  {
   "cell_type": "code",
   "execution_count": 2,
   "id": "cb712318",
   "metadata": {},
   "outputs": [],
   "source": [
    "import gzip\n",
    "import numpy as np"
   ]
  },
  {
   "cell_type": "code",
   "execution_count": 3,
   "id": "3453e750",
   "metadata": {},
   "outputs": [],
   "source": [
    "# test_images = np.load(gzip.open('test_images.npy.gz', 'rb'))\n",
    "# train_images = np.load(gzip.open('train_images.npy.gz', 'rb'))\n",
    "train_labels = np.load(gzip.open('train_labels.npy.gz', 'rb'))"
   ]
  },
  {
   "cell_type": "code",
   "execution_count": 4,
   "id": "e2bed7b6",
   "metadata": {},
   "outputs": [],
   "source": [
    "import tensorflow as tf"
   ]
  },
  {
   "cell_type": "code",
   "execution_count": 5,
   "id": "3c820abc",
   "metadata": {},
   "outputs": [],
   "source": [
    "# include_top=False will discard avg_pool before prediction layer\n",
    "# inception = tf.keras.applications.inception_v3.InceptionV3(include_top=True, input_shape=(299, 299, 3))\n",
    "# inception = tf.keras.Model([inception.input], [inception.layers[-2].output]) \n",
    "# manually discard prediction layer"
   ]
  },
  {
   "cell_type": "code",
   "execution_count": 6,
   "id": "a4c50dc2",
   "metadata": {},
   "outputs": [],
   "source": [
    "import os"
   ]
  },
  {
   "cell_type": "code",
   "execution_count": 7,
   "id": "6218ac9f",
   "metadata": {},
   "outputs": [],
   "source": [
    "cache_dir = 'cache/test'\n",
    "if not os.path.exists(cache_dir):\n",
    "    os.mkdir(cache_dir)"
   ]
  },
  {
   "cell_type": "code",
   "execution_count": 8,
   "id": "e79e7271",
   "metadata": {},
   "outputs": [],
   "source": [
    "def pre_process(X, start, batch):\n",
    "    \"\"\"\n",
    "    this function iteratively pre-processes images given start index and batch size\n",
    "    \"\"\"\n",
    "    resize = tf.image.resize(X[start: start+batch], [299,299])\n",
    "    predict = np.zeros((batch,2048))\n",
    "    for i in range(0, batch):\n",
    "        predict[i] = inception.predict(np.expand_dims(resize[i], axis=0))\n",
    "    with open('cache/test/%s.npy'%start, 'wb') as f:\n",
    "        np.save(f, predict)"
   ]
  },
  {
   "cell_type": "code",
   "execution_count": 9,
   "id": "4613dc43",
   "metadata": {},
   "outputs": [],
   "source": [
    "# for j in range(0, 10, 5):\n",
    "#     for k in range(j, j+5):\n",
    "#         pre_process(test_images, 1000*k, 1000)"
   ]
  },
  {
   "cell_type": "code",
   "execution_count": 10,
   "id": "58fe5b1e",
   "metadata": {},
   "outputs": [],
   "source": [
    "cache_dir = 'cache/train'\n",
    "if not os.path.exists(cache_dir):\n",
    "    os.mkdir(cache_dir)"
   ]
  },
  {
   "cell_type": "code",
   "execution_count": 11,
   "id": "35e0276b",
   "metadata": {},
   "outputs": [],
   "source": [
    "def pre_process(X, start, batch):\n",
    "    resize = tf.image.resize(X[start: start+batch], [299,299])\n",
    "    predict = np.zeros((batch,2048))\n",
    "    for i in range(0, batch):\n",
    "        predict[i] = inception.predict(np.expand_dims(resize[i], axis=0))\n",
    "    with open('cache/test/%s.npy'%start, 'wb') as f:\n",
    "        np.save(f, predict)"
   ]
  },
  {
   "cell_type": "code",
   "execution_count": 12,
   "id": "7b37def8",
   "metadata": {},
   "outputs": [],
   "source": [
    "# for j in range(0, 50, 5):\n",
    "#     for k in range(j, j+5):\n",
    "#         pre_process(train_images, 1000*k, 1000)"
   ]
  },
  {
   "cell_type": "code",
   "execution_count": 13,
   "id": "622b1015",
   "metadata": {},
   "outputs": [],
   "source": [
    "from glob import glob"
   ]
  },
  {
   "cell_type": "code",
   "execution_count": 14,
   "id": "9fe9a057",
   "metadata": {},
   "outputs": [
    {
     "name": "stdout",
     "output_type": "stream",
     "text": [
      "(10000, 2048)\n"
     ]
    }
   ],
   "source": [
    "test_dd = np.vstack([np.load(file) for file in sorted(glob('cache/test/*.npy'))])\n",
    "print(test_dd.shape)"
   ]
  },
  {
   "cell_type": "code",
   "execution_count": 15,
   "id": "439a218e",
   "metadata": {},
   "outputs": [
    {
     "name": "stdout",
     "output_type": "stream",
     "text": [
      "(50000, 2048)\n"
     ]
    }
   ],
   "source": [
    "train_dd = np.vstack([np.load(file) for file in sorted(glob('cache/train/*.npy'))])\n",
    "print(train_dd.shape)"
   ]
  },
  {
   "cell_type": "code",
   "execution_count": 16,
   "id": "777522d6",
   "metadata": {},
   "outputs": [],
   "source": [
    "# --- pre-process y ---"
   ]
  },
  {
   "cell_type": "code",
   "execution_count": 17,
   "id": "d36a9a96",
   "metadata": {},
   "outputs": [],
   "source": [
    "from tensorflow.keras.utils import to_categorical as one_hot"
   ]
  },
  {
   "cell_type": "code",
   "execution_count": 18,
   "id": "4dbe4c87",
   "metadata": {},
   "outputs": [],
   "source": [
    "y_hot = one_hot(train_labels)"
   ]
  },
  {
   "cell_type": "code",
   "execution_count": 19,
   "id": "02f8749f",
   "metadata": {},
   "outputs": [],
   "source": [
    "# --- train neural network ---"
   ]
  },
  {
   "cell_type": "code",
   "execution_count": 20,
   "id": "b052f00f",
   "metadata": {},
   "outputs": [],
   "source": [
    "# train test split\n",
    "from sklearn.model_selection import train_test_split\n",
    "x_train, x_valid, y_train, y_valid = train_test_split(train_dd, y_hot, test_size=0.3, random_state=20240229)"
   ]
  },
  {
   "cell_type": "code",
   "execution_count": 21,
   "id": "2e9abf36",
   "metadata": {},
   "outputs": [],
   "source": [
    "from tensorflow import keras"
   ]
  },
  {
   "cell_type": "code",
   "execution_count": 22,
   "id": "b103608f",
   "metadata": {},
   "outputs": [],
   "source": [
    "hidden_size = 256"
   ]
  },
  {
   "cell_type": "code",
   "execution_count": 23,
   "id": "0ba36dd6",
   "metadata": {},
   "outputs": [],
   "source": [
    "# dropout\n",
    "do_rate = 0.5"
   ]
  },
  {
   "cell_type": "code",
   "execution_count": 24,
   "id": "c5bab688",
   "metadata": {},
   "outputs": [],
   "source": [
    "model_fc = keras.models.Sequential()"
   ]
  },
  {
   "cell_type": "code",
   "execution_count": 25,
   "id": "849a73c9",
   "metadata": {},
   "outputs": [],
   "source": [
    "model_fc.add(keras.layers.Dropout(do_rate))\n",
    "model_fc.add(\n",
    "    keras.layers.Dense(\n",
    "        hidden_size,\n",
    "        activation='relu',\n",
    "        kernel_initializer=keras.initializers.TruncatedNormal(stddev=2048**-0.5)\n",
    "    )\n",
    ")"
   ]
  },
  {
   "cell_type": "code",
   "execution_count": 26,
   "id": "b7199b7a",
   "metadata": {},
   "outputs": [],
   "source": [
    "model_fc.add(keras.layers.Dropout(do_rate))\n",
    "model_fc.add(\n",
    "    keras.layers.Dense(\n",
    "        10,\n",
    "        activation='softmax',\n",
    "        kernel_initializer=keras.initializers.TruncatedNormal(stddev=hidden_size**-0.5)\n",
    "    )\n",
    ")"
   ]
  },
  {
   "cell_type": "code",
   "execution_count": 27,
   "id": "f080be29",
   "metadata": {},
   "outputs": [],
   "source": [
    "model_fc.compile(loss='categorical_crossentropy',\n",
    "                 optimizer=keras.optimizers.SGD(learning_rate=0.01),\n",
    "                 metrics=['accuracy'])"
   ]
  },
  {
   "cell_type": "code",
   "execution_count": 28,
   "id": "ac21ed2d",
   "metadata": {},
   "outputs": [],
   "source": [
    "# earlystopping\n",
    "earlystopping = keras.callbacks.EarlyStopping(monitor='val_loss', patience=5,\n",
    "                                              verbose=1, min_delta=.01)"
   ]
  },
  {
   "cell_type": "code",
   "execution_count": 29,
   "id": "eaa91811",
   "metadata": {},
   "outputs": [
    {
     "name": "stdout",
     "output_type": "stream",
     "text": [
      "Epoch 1/100\n",
      "1167/1167 [==============================] - 6s 5ms/step - loss: 1.1508 - accuracy: 0.6103 - val_loss: 0.6392 - val_accuracy: 0.7881\n",
      "Epoch 2/100\n",
      "1167/1167 [==============================] - 5s 4ms/step - loss: 0.7885 - accuracy: 0.7320 - val_loss: 0.5814 - val_accuracy: 0.8010\n",
      "Epoch 3/100\n",
      "1167/1167 [==============================] - 5s 4ms/step - loss: 0.7260 - accuracy: 0.7522 - val_loss: 0.5601 - val_accuracy: 0.8064\n",
      "Epoch 4/100\n",
      "1167/1167 [==============================] - 5s 4ms/step - loss: 0.6932 - accuracy: 0.7615 - val_loss: 0.5407 - val_accuracy: 0.8145\n",
      "Epoch 5/100\n",
      "1167/1167 [==============================] - 5s 4ms/step - loss: 0.6665 - accuracy: 0.7719 - val_loss: 0.5326 - val_accuracy: 0.8156\n",
      "Epoch 6/100\n",
      "1167/1167 [==============================] - 5s 4ms/step - loss: 0.6486 - accuracy: 0.7766 - val_loss: 0.5187 - val_accuracy: 0.8223\n",
      "Epoch 7/100\n",
      "1167/1167 [==============================] - 5s 4ms/step - loss: 0.6344 - accuracy: 0.7808 - val_loss: 0.5071 - val_accuracy: 0.8251\n",
      "Epoch 8/100\n",
      "1167/1167 [==============================] - 5s 4ms/step - loss: 0.6247 - accuracy: 0.7840 - val_loss: 0.5070 - val_accuracy: 0.8241\n",
      "Epoch 9/100\n",
      "1167/1167 [==============================] - 5s 5ms/step - loss: 0.6161 - accuracy: 0.7865 - val_loss: 0.4994 - val_accuracy: 0.8273\n",
      "Epoch 10/100\n",
      "1167/1167 [==============================] - 5s 4ms/step - loss: 0.6112 - accuracy: 0.7890 - val_loss: 0.4894 - val_accuracy: 0.8324\n",
      "Epoch 11/100\n",
      "1167/1167 [==============================] - 5s 4ms/step - loss: 0.5988 - accuracy: 0.7919 - val_loss: 0.4852 - val_accuracy: 0.8327\n",
      "Epoch 12/100\n",
      "1167/1167 [==============================] - 5s 4ms/step - loss: 0.5953 - accuracy: 0.7953 - val_loss: 0.4828 - val_accuracy: 0.8339\n",
      "Epoch 13/100\n",
      "1167/1167 [==============================] - 5s 4ms/step - loss: 0.5923 - accuracy: 0.7950 - val_loss: 0.4801 - val_accuracy: 0.8347\n",
      "Epoch 14/100\n",
      "1167/1167 [==============================] - 5s 4ms/step - loss: 0.5851 - accuracy: 0.7967 - val_loss: 0.4817 - val_accuracy: 0.8347\n",
      "Epoch 15/100\n",
      "1167/1167 [==============================] - 5s 4ms/step - loss: 0.5825 - accuracy: 0.7980 - val_loss: 0.4803 - val_accuracy: 0.8334\n",
      "Epoch 15: early stopping\n"
     ]
    }
   ],
   "source": [
    "history = model_fc.fit(x_train, y_train,\n",
    "                       epochs=100,\n",
    "                       batch_size=30,\n",
    "                       validation_data=(x_valid,y_valid),\n",
    "                       callbacks=[earlystopping])"
   ]
  },
  {
   "cell_type": "code",
   "execution_count": 30,
   "id": "63a085ad",
   "metadata": {},
   "outputs": [],
   "source": [
    "# --- model summary ---"
   ]
  },
  {
   "cell_type": "code",
   "execution_count": 31,
   "id": "0a391113",
   "metadata": {},
   "outputs": [
    {
     "name": "stdout",
     "output_type": "stream",
     "text": [
      "Model: \"sequential\"\n",
      "_________________________________________________________________\n",
      " Layer (type)                Output Shape              Param #   \n",
      "=================================================================\n",
      " dropout (Dropout)           (None, 2048)              0         \n",
      "                                                                 \n",
      " dense (Dense)               (None, 256)               524544    \n",
      "                                                                 \n",
      " dropout_1 (Dropout)         (None, 256)               0         \n",
      "                                                                 \n",
      " dense_1 (Dense)             (None, 10)                2570      \n",
      "                                                                 \n",
      "=================================================================\n",
      "Total params: 527114 (2.01 MB)\n",
      "Trainable params: 527114 (2.01 MB)\n",
      "Non-trainable params: 0 (0.00 Byte)\n",
      "_________________________________________________________________\n"
     ]
    }
   ],
   "source": [
    "model_fc.summary()"
   ]
  },
  {
   "cell_type": "code",
   "execution_count": 32,
   "id": "063d6e73",
   "metadata": {},
   "outputs": [],
   "source": [
    "import matplotlib.pyplot as plt"
   ]
  },
  {
   "cell_type": "code",
   "execution_count": 33,
   "id": "797cb39b",
   "metadata": {},
   "outputs": [
    {
     "data": {
      "image/png": "[encoded data removed]",
      "text/plain": [
       "<Figure size 800x400 with 2 Axes>"
      ]
     },
     "metadata": {},
     "output_type": "display_data"
    }
   ],
   "source": [
    "plt.style.use('default')\n",
    "\n",
    "fig, (ax1, ax2) = plt.subplots(nrows=1, ncols=2, figsize=(8,4))\n",
    "\n",
    "ax1.plot(history.history['loss'], label=\"Training\")\n",
    "ax1.plot(history.history['val_loss'], label=\"Validation\")\n",
    "ax1.set_xlabel('Epoch')\n",
    "ax1.set_ylabel('Loss')\n",
    "ax1.set_ylim(0.4, 1.2)\n",
    "ax1.legend(frameon=False)\n",
    "\n",
    "ax2.plot(history.history['accuracy'], label=\"Training\")\n",
    "ax2.plot(history.history['val_accuracy'], label=\"Validation\")\n",
    "ax2.set_xlabel('Epoch')\n",
    "ax2.set_ylabel('Accuracy')\n",
    "ax2.set_ylim(0.6, 0.85)\n",
    "ax2.legend(loc='lower right', frameon=False)\n",
    "\n",
    "fig.suptitle('Mini-batch gradient descent on transfer learning model')\n",
    "plt.tight_layout()\n",
    "plt.show()\n",
    "# plt.savefig('tf.png')"
   ]
  },
  {
   "cell_type": "code",
   "execution_count": 34,
   "id": "be52f850",
   "metadata": {},
   "outputs": [],
   "source": [
    "# --- model prediction ---"
   ]
  },
  {
   "cell_type": "code",
   "execution_count": 35,
   "id": "f125d773",
   "metadata": {},
   "outputs": [
    {
     "name": "stdout",
     "output_type": "stream",
     "text": [
      "313/313 [==============================] - 1s 2ms/step\n"
     ]
    }
   ],
   "source": [
    "predictions = model_fc.predict(test_dd)\n",
    "pred_fc = np.argmax(predictions, axis=1)"
   ]
  },
  {
   "cell_type": "code",
   "execution_count": 36,
   "id": "fce68a4d",
   "metadata": {},
   "outputs": [
    {
     "name": "stdout",
     "output_type": "stream",
     "text": [
      "[7 9 3 ... 9 4 5]\n"
     ]
    }
   ],
   "source": [
    "print(pred_fc)\n",
    "# train_labels only provided numbers"
   ]
  }
 ],
 "metadata": {
  "kernelspec": {
   "display_name": "Python3",
   "language": "python",
   "name": "python3"
  },
  "language_info": {
   "codemirror_mode": {
    "name": "ipython",
    "version": 3
   },
   "file_extension": ".py",
   "mimetype": "text/x-python",
   "name": "python",
   "nbconvert_exporter": "python",
   "pygments_lexer": "ipython3",
   "version": "3.11.6"
  }
 },
 "nbformat": 4,
 "nbformat_minor": 5
}
